{
 "cells": [
  {
   "cell_type": "code",
   "execution_count": 0,
   "metadata": {
    "application/vnd.databricks.v1+cell": {
     "cellMetadata": {
      "byteLimit": 2048000,
      "rowLimit": 10000
     },
     "inputWidgets": {},
     "nuid": "5123279d-ab06-40c0-9ffa-0aa3f9b84d95",
     "showTitle": false,
     "tableResultSettingsMap": {},
     "title": ""
    }
   },
   "outputs": [],
   "source": [
    "%python\n",
    "from pyspark.sql.functions import split, size,max\n",
    "\n",
    "##df = spark.read.format('text').option('compression', 'gzip').load('s3a://consumer-orbit-us-east-1-holding/October2024_TCI/*.gz')\n",
    "#df = spark.read.format('text').option('compression', 'gzip').load('s3://consumer-orbit-us-east-1-holding/October2024_TCI/*.gz')\n",
    "\n",
    "#df = spark.read.format('text').option('compression', 'gzip').load('s3://tenetic-verisk-ingest-us-east-1/from-infutor/onprem/TCI_EMAIL/TCI_EMAIL_00.txt.gz')\n",
    "\n",
    "df = spark.read.format('text').option('compression', 'gzip').load(\"/FileStore/tables/TCI_AK_txt-1.gz\")\n",
    "df_split = df.withColumn(\"split_col\", split(df[\"value\"], \"\\t\"))\n",
    "\n",
    "df_split_size=df_split.select('split_col',size('split_col').alias(\"No_of_Columns\"))\n",
    "\n",
    "MaxNumElements=df_split_size.agg({'No_of_Columns': 'max'}).collect()[0][0]\n",
    "\n",
    "\n",
    "\n"
   ]
  },
  {
   "cell_type": "code",
   "execution_count": 0,
   "metadata": {
    "application/vnd.databricks.v1+cell": {
     "cellMetadata": {
      "byteLimit": 2048000,
      "rowLimit": 10000
     },
     "inputWidgets": {},
     "nuid": "e0a68300-d3fb-4bf2-b5f6-0ed134c20234",
     "showTitle": false,
     "tableResultSettingsMap": {},
     "title": ""
    }
   },
   "outputs": [],
   "source": [
    "df_split_size.display()"
   ]
  },
  {
   "cell_type": "code",
   "execution_count": 0,
   "metadata": {
    "application/vnd.databricks.v1+cell": {
     "cellMetadata": {
      "byteLimit": 2048000,
      "rowLimit": 10000
     },
     "inputWidgets": {},
     "nuid": "1d748ff3-171b-4c54-ab71-d6dfb0039a68",
     "showTitle": false,
     "tableResultSettingsMap": {},
     "title": ""
    }
   },
   "outputs": [],
   "source": [
    "def arraySplitIntoCols (df,No_of_Columns):\n",
    "    for i in range(No_of_Columns):\n",
    "        df = df.withColumn(f\"col{i}\", df.split_col[i])\n",
    "    \n",
    "    return df    \n",
    "\n",
    "df_data=arraySplitIntoCols(df_split_size,MaxNumElements)"
   ]
  },
  {
   "cell_type": "code",
   "execution_count": 0,
   "metadata": {
    "application/vnd.databricks.v1+cell": {
     "cellMetadata": {
      "byteLimit": 2048000,
      "rowLimit": 10000
     },
     "inputWidgets": {},
     "nuid": "48d67e2d-5c28-4e64-8e01-25e37a006476",
     "showTitle": false,
     "tableResultSettingsMap": {},
     "title": ""
    }
   },
   "outputs": [],
   "source": [
    "df_data=df_data.drop('split_col').drop('No_of_Columns')  "
   ]
  },
  {
   "cell_type": "code",
   "execution_count": 0,
   "metadata": {
    "application/vnd.databricks.v1+cell": {
     "cellMetadata": {
      "byteLimit": 2048000,
      "rowLimit": 10000
     },
     "inputWidgets": {},
     "nuid": "653c5418-a3a9-41a0-bab3-476825638b4e",
     "showTitle": false,
     "tableResultSettingsMap": {},
     "title": ""
    }
   },
   "outputs": [],
   "source": [
    "df_data.display()"
   ]
  },
  {
   "cell_type": "code",
   "execution_count": 0,
   "metadata": {
    "application/vnd.databricks.v1+cell": {
     "cellMetadata": {
      "byteLimit": 2048000,
      "rowLimit": 10000
     },
     "inputWidgets": {},
     "nuid": "f909b21c-f522-42e6-87d0-085a0962fdb2",
     "showTitle": false,
     "tableResultSettingsMap": {},
     "title": ""
    }
   },
   "outputs": [],
   "source": [
    "Total_Consumer_Insights_Counts_df = spark.read.format(\"com.crealytics.spark.excel\") \\\n",
    "    .option(\"header\", \"true\") \\\n",
    "    .option(\"inferSchema\", \"true\") \\\n",
    "    .load('/FileStore/tables/Total_Consumer_Insights_Counts__9____Copy__1_.xlsx')\n",
    "    #.load('s3://consumer-orbit-us-east-1-holding/Total_Consumer_Insights_Counts (9) - Copy.xlsx')\n",
    "    \n"
   ]
  },
  {
   "cell_type": "code",
   "execution_count": 0,
   "metadata": {
    "application/vnd.databricks.v1+cell": {
     "cellMetadata": {
      "byteLimit": 2048000,
      "rowLimit": 10000
     },
     "inputWidgets": {},
     "nuid": "3a526911-bd1a-4cfc-b788-36805e0089f8",
     "showTitle": false,
     "tableResultSettingsMap": {},
     "title": ""
    }
   },
   "outputs": [],
   "source": [
    "df_Insight_Plus = spark.read.format(\"com.crealytics.spark.excel\") \\\n",
    "    .option(\"header\", \"true\") \\\n",
    "    .option(\"inferSchema\", \"true\") \\\n",
    "    .load('/FileStore/tables/Total_Consumer_Insights_Plus_Counts__5___1_.xlsx')\n",
    "    #.load('s3://consumer-orbit-us-east-1-holding/Total_Consumer_Insights_Plus_Counts (5) (1).xlsx')\n",
    "\n",
    "display(df_Insight_Plus)"
   ]
  },
  {
   "cell_type": "code",
   "execution_count": 0,
   "metadata": {
    "application/vnd.databricks.v1+cell": {
     "cellMetadata": {
      "byteLimit": 2048000,
      "rowLimit": 10000
     },
     "inputWidgets": {},
     "nuid": "4e830b26-f928-4b40-9912-a6735b043043",
     "showTitle": false,
     "tableResultSettingsMap": {},
     "title": ""
    }
   },
   "outputs": [],
   "source": [
    "FieldNames_Total_Consumer_Insights_Counts_df=Total_Consumer_Insights_Counts_df.dropna(subset=['_c1'])\n",
    "FieldNames_Total_Consumer_Insights_Counts_df = FieldNames_Total_Consumer_Insights_Counts_df.select('_c1')\n",
    "FieldNames_Total_Consumer_Insights_Counts_df.display()"
   ]
  },
  {
   "cell_type": "code",
   "execution_count": 0,
   "metadata": {
    "application/vnd.databricks.v1+cell": {
     "cellMetadata": {
      "byteLimit": 2048000,
      "rowLimit": 10000
     },
     "inputWidgets": {},
     "nuid": "222b664c-1f0c-4d6f-b02d-4bdcf61a47c0",
     "showTitle": false,
     "tableResultSettingsMap": {},
     "title": ""
    }
   },
   "outputs": [],
   "source": [
    "FieldNames_df_Insight_Plus=df_Insight_Plus.dropna(subset=['_c1'])\n",
    "FieldNames_df_Insight_Plus = FieldNames_df_Insight_Plus.select('_c1')\n",
    "FieldNames_df_Insight_Plus.display()"
   ]
  },
  {
   "cell_type": "code",
   "execution_count": 0,
   "metadata": {
    "application/vnd.databricks.v1+cell": {
     "cellMetadata": {
      "byteLimit": 2048000,
      "rowLimit": 10000
     },
     "inputWidgets": {},
     "nuid": "c51ad634-3fa3-42aa-9e74-76ba21e8b6f2",
     "showTitle": false,
     "tableResultSettingsMap": {},
     "title": ""
    }
   },
   "outputs": [],
   "source": [
    "df_metadata=FieldNames_Total_Consumer_Insights_Counts_df.union(FieldNames_df_Insight_Plus)"
   ]
  },
  {
   "cell_type": "code",
   "execution_count": 0,
   "metadata": {
    "application/vnd.databricks.v1+cell": {
     "cellMetadata": {
      "byteLimit": 2048000,
      "rowLimit": 10000
     },
     "inputWidgets": {},
     "nuid": "a64425e5-d8bd-46b5-8256-d4863f6b6ce5",
     "showTitle": false,
     "tableResultSettingsMap": {},
     "title": ""
    }
   },
   "outputs": [],
   "source": [
    "# Take 'Field Name' column of second file (df2) and use it as header in first file (df1)\n",
    "\n",
    "# Drop rows where 'Field Name' column is null\n",
    "df_metadata=df_metadata.dropna(subset=['_c1'])\n",
    "\n",
    "# Select only 'Field Name' column\n",
    "df_metadata = df_metadata.select('_c1')\n",
    "\n",
    "\n",
    "################################################################\n",
    "#Removing the duplicates \n",
    "\n",
    "\n",
    "from pyspark.sql.functions import monotonically_increasing_id\n",
    "\n",
    "# Add an index column to preserve the order\n",
    "df_metadata = df_metadata.withColumn(\"index\", monotonically_increasing_id())\n",
    "\n",
    "# Drop duplicates based on the desired column(s) while keeping the first occurrence\n",
    "df_metadata = df_metadata.dropDuplicates(['_c1'])\n",
    "df_metadata=df_metadata.orderBy('index')\n",
    "\n",
    "\n",
    "# Remove the index column\n",
    "df_metadata = df_metadata.drop(\"index\")\n",
    "\n",
    "\n",
    "#####################################################################\n",
    "display(df_metadata)\n",
    "\n",
    "\n"
   ]
  },
  {
   "cell_type": "code",
   "execution_count": 0,
   "metadata": {
    "application/vnd.databricks.v1+cell": {
     "cellMetadata": {
      "byteLimit": 2048000,
      "rowLimit": 10000
     },
     "inputWidgets": {},
     "nuid": "29741ff5-a04f-4790-bcd1-311e0aa8c155",
     "showTitle": false,
     "tableResultSettingsMap": {},
     "title": ""
    }
   },
   "outputs": [],
   "source": [
    "%python\n",
    "# Extract the first row to use as header\n",
    "new_header = df_metadata.first()\n",
    "\n",
    "# Convert the first row to a list of column names\n",
    "new_header = [str(col) for col in new_header]\n",
    "\n",
    "# Apply the new header to df1\n",
    "df_metadata = df_metadata.toDF(*new_header)\n",
    "\n",
    "\n",
    "df_metadata = df_metadata.filter(df_metadata['Field Name'] != new_header[0])\n",
    "\n",
    "df_metadata =df_metadata.dropDuplicates()\n",
    "\n",
    "display(df_metadata)"
   ]
  },
  {
   "cell_type": "code",
   "execution_count": 0,
   "metadata": {
    "application/vnd.databricks.v1+cell": {
     "cellMetadata": {
      "byteLimit": 2048000,
      "rowLimit": 10000
     },
     "inputWidgets": {},
     "nuid": "2f29a30a-b058-4899-9672-942a7c1574eb",
     "showTitle": false,
     "tableResultSettingsMap": {},
     "title": ""
    }
   },
   "outputs": [],
   "source": [
    "#\n",
    "# Use df_metadata  as header for df_data\n",
    "new_header = [row['Field Name'] for row in df_metadata.collect()]\n",
    "df_data_with_header = df_data.toDF(*new_header)\n",
    "\n",
    "display(df_data_with_header)"
   ]
  }
 ],
 "metadata": {
  "application/vnd.databricks.v1+notebook": {
   "computePreferences": null,
   "dashboards": [],
   "environmentMetadata": {
    "base_environment": "",
    "environment_version": "2"
   },
   "inputWidgetPreferences": null,
   "language": "python",
   "notebookMetadata": {
    "pythonIndentUnit": 4
   },
   "notebookName": "Match Layout",
   "widgets": {}
  },
  "language_info": {
   "name": "python"
  }
 },
 "nbformat": 4,
 "nbformat_minor": 0
}
