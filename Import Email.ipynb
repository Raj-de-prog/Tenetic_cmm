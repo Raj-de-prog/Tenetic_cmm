{
 "cells": [
  {
   "cell_type": "code",
   "execution_count": 0,
   "metadata": {
    "application/vnd.databricks.v1+cell": {
     "cellMetadata": {
      "byteLimit": 2048000,
      "rowLimit": 10000
     },
     "inputWidgets": {},
     "nuid": "3744480a-9dc6-4182-bdd7-f476ce1a18d8",
     "showTitle": false,
     "tableResultSettingsMap": {},
     "title": ""
    }
   },
   "outputs": [],
   "source": [
    "%python\n",
    "from pyspark.sql.functions import split, size,max\n",
    "\n",
    "df = spark.read.format(\"csv\") \\\n",
    "    .option(\"inferSchema\", \"true\") \\\n",
    "    .option('compression', 'gzip') \\\n",
    "    .load('s3://consumer-orbit-us-east-1-holding/October2024_EMAIL/*.txt.gz')  \n",
    "\n",
    "\n",
    "df_split = df.withColumn(\"split_col\", split(df[\"_c0\"], \"\\t\"))\n",
    "\n",
    "df_split_size=df_split.select('split_col',size('split_col').alias(\"No_of_Columns\"))\n",
    "\n",
    "MaxNumElements=df_split_size.agg({'No_of_Columns': 'max'}).collect()[0][0]\n",
    "\n",
    "\n",
    "def arraySplitIntoCols (df,No_of_Columns):\n",
    "    for i in range(No_of_Columns):\n",
    "        df = df.withColumn(f\"col{i}\", df.split_col[i])\n",
    "    \n",
    "    return df    \n",
    "\n",
    "df_final=arraySplitIntoCols(df_split_size,MaxNumElements)\n",
    "\n",
    "df_final.drop('split_col').drop('No_of_Columns').display() "
   ]
  },
  {
   "cell_type": "code",
   "execution_count": 0,
   "metadata": {
    "application/vnd.databricks.v1+cell": {
     "cellMetadata": {
      "byteLimit": 2048000,
      "rowLimit": 10000
     },
     "inputWidgets": {},
     "nuid": "c7ac4d6c-3558-43b4-978a-d81980588e4a",
     "showTitle": false,
     "tableResultSettingsMap": {},
     "title": ""
    }
   },
   "outputs": [],
   "source": [
    "\n",
    "df = spark.read.format(\"com.crealytics.spark.excel\") \\\n",
    "    .option(\"header\", \"true\") \\\n",
    "    .option(\"inferSchema\", \"true\") \\\n",
    "    .load('s3://consumer-orbit-us-east-1-holding/Total_Consumer_Insights_Email_Counts (4).xlsx')\n",
    "\n",
    "display(df)\n",
    "\n",
    "\n",
    "\n"
   ]
  },
  {
   "cell_type": "code",
   "execution_count": 0,
   "metadata": {
    "application/vnd.databricks.v1+cell": {
     "cellMetadata": {
      "byteLimit": 2048000,
      "rowLimit": 10000
     },
     "inputWidgets": {},
     "nuid": "c8c9b1f4-3287-4beb-bdac-223d109eef53",
     "showTitle": false,
     "tableResultSettingsMap": {},
     "title": ""
    }
   },
   "outputs": [],
   "source": [
    "from pyspark.sql.functions import col, StringType\n",
    "\n",
    "columns= df.columns\n",
    "display(spark.createDataFrame(columns, StringType()).toDF('column_name'))"
   ]
  },
  {
   "cell_type": "code",
   "execution_count": 0,
   "metadata": {
    "application/vnd.databricks.v1+cell": {
     "cellMetadata": {
      "byteLimit": 2048000,
      "rowLimit": 10000
     },
     "inputWidgets": {},
     "nuid": "238cd4d3-be7c-4eea-8151-2a527f41aa13",
     "showTitle": false,
     "tableResultSettingsMap": {},
     "title": ""
    }
   },
   "outputs": [],
   "source": [
    "df=df.select('_c1')"
   ]
  },
  {
   "cell_type": "code",
   "execution_count": 0,
   "metadata": {
    "application/vnd.databricks.v1+cell": {
     "cellMetadata": {
      "byteLimit": 2048000,
      "rowLimit": 10000
     },
     "inputWidgets": {},
     "nuid": "262c463f-7124-4895-9afb-0ab0efd376d2",
     "showTitle": false,
     "tableResultSettingsMap": {},
     "title": ""
    }
   },
   "outputs": [],
   "source": [
    "from pyspark.sql.functions import monotonically_increasing_id\n",
    "\n",
    "# Add an index column to the DataFrame\n",
    "df_with_index = df.withColumn(\"index\", monotonically_increasing_id())\n",
    "\n",
    "# Find the index of the row containing \"Field Name\"\n",
    "field_name_index = df_with_index.filter(df_with_index['_c1'] == 'Field Name').select('index').collect()[0][0]\n",
    "\n",
    "# Filter the DataFrame to include only rows after the \"Field Name\" row\n",
    "df_filtered = df_with_index.filter(df_with_index['index'] > field_name_index).drop('index')\n",
    "\n",
    "df_filtered.dropna().display()  "
   ]
  },
  {
   "cell_type": "code",
   "execution_count": 0,
   "metadata": {
    "application/vnd.databricks.v1+cell": {
     "cellMetadata": {
      "byteLimit": 2048000,
      "rowLimit": 10000
     },
     "inputWidgets": {},
     "nuid": "3ad4a144-4b8f-4fe7-8481-3eef0384d320",
     "showTitle": false,
     "tableResultSettingsMap": {},
     "title": ""
    }
   },
   "outputs": [],
   "source": [
    "df_with_index.display()"
   ]
  }
 ],
 "metadata": {
  "application/vnd.databricks.v1+notebook": {
   "computePreferences": null,
   "dashboards": [],
   "environmentMetadata": {
    "base_environment": "",
    "environment_version": "2"
   },
   "inputWidgetPreferences": null,
   "language": "python",
   "notebookMetadata": {
    "pythonIndentUnit": 4
   },
   "notebookName": "Import Email",
   "widgets": {}
  },
  "language_info": {
   "name": "python"
  }
 },
 "nbformat": 4,
 "nbformat_minor": 0
}
